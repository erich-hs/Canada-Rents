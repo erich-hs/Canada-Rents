{
  "nbformat": 4,
  "nbformat_minor": 0,
  "metadata": {
    "colab": {
      "provenance": [],
      "collapsed_sections": []
    },
    "kernelspec": {
      "name": "python3",
      "display_name": "Python 3"
    },
    "language_info": {
      "name": "python"
    }
  },
  "cells": [
    {
      "cell_type": "markdown",
      "source": [
        "## Pytesseract"
      ],
      "metadata": {
        "id": "yQ7yvnac0cG0"
      }
    },
    {
      "cell_type": "code",
      "source": [
        "!sudo apt install tesseract-ocr\n",
        "!pip install pytesseract"
      ],
      "metadata": {
        "colab": {
          "base_uri": "https://localhost:8080/",
          "height": 1000
        },
        "id": "DcRWrBA00ge3",
        "outputId": "85821246-8ebc-4ca4-e076-81ea9019a1f7"
      },
      "execution_count": 1,
      "outputs": [
        {
          "output_type": "stream",
          "name": "stdout",
          "text": [
            "Reading package lists... Done\n",
            "Building dependency tree       \n",
            "Reading state information... Done\n",
            "The following package was automatically installed and is no longer required:\n",
            "  libnvidia-common-460\n",
            "Use 'sudo apt autoremove' to remove it.\n",
            "The following additional packages will be installed:\n",
            "  tesseract-ocr-eng tesseract-ocr-osd\n",
            "The following NEW packages will be installed:\n",
            "  tesseract-ocr tesseract-ocr-eng tesseract-ocr-osd\n",
            "0 upgraded, 3 newly installed, 0 to remove and 20 not upgraded.\n",
            "Need to get 4,795 kB of archives.\n",
            "After this operation, 15.8 MB of additional disk space will be used.\n",
            "Get:1 http://archive.ubuntu.com/ubuntu bionic/universe amd64 tesseract-ocr-eng all 4.00~git24-0e00fe6-1.2 [1,588 kB]\n",
            "Get:2 http://archive.ubuntu.com/ubuntu bionic/universe amd64 tesseract-ocr-osd all 4.00~git24-0e00fe6-1.2 [2,989 kB]\n",
            "Get:3 http://archive.ubuntu.com/ubuntu bionic/universe amd64 tesseract-ocr amd64 4.00~git2288-10f4998a-2 [218 kB]\n",
            "Fetched 4,795 kB in 0s (17.9 MB/s)\n",
            "debconf: unable to initialize frontend: Dialog\n",
            "debconf: (No usable dialog-like program is installed, so the dialog based frontend cannot be used. at /usr/share/perl5/Debconf/FrontEnd/Dialog.pm line 76, <> line 3.)\n",
            "debconf: falling back to frontend: Readline\n",
            "debconf: unable to initialize frontend: Readline\n",
            "debconf: (This frontend requires a controlling tty.)\n",
            "debconf: falling back to frontend: Teletype\n",
            "dpkg-preconfigure: unable to re-open stdin: \n",
            "Selecting previously unselected package tesseract-ocr-eng.\n",
            "(Reading database ... 155685 files and directories currently installed.)\n",
            "Preparing to unpack .../tesseract-ocr-eng_4.00~git24-0e00fe6-1.2_all.deb ...\n",
            "Unpacking tesseract-ocr-eng (4.00~git24-0e00fe6-1.2) ...\n",
            "Selecting previously unselected package tesseract-ocr-osd.\n",
            "Preparing to unpack .../tesseract-ocr-osd_4.00~git24-0e00fe6-1.2_all.deb ...\n",
            "Unpacking tesseract-ocr-osd (4.00~git24-0e00fe6-1.2) ...\n",
            "Selecting previously unselected package tesseract-ocr.\n",
            "Preparing to unpack .../tesseract-ocr_4.00~git2288-10f4998a-2_amd64.deb ...\n",
            "Unpacking tesseract-ocr (4.00~git2288-10f4998a-2) ...\n",
            "Setting up tesseract-ocr-osd (4.00~git24-0e00fe6-1.2) ...\n",
            "Setting up tesseract-ocr-eng (4.00~git24-0e00fe6-1.2) ...\n",
            "Setting up tesseract-ocr (4.00~git2288-10f4998a-2) ...\n",
            "Processing triggers for man-db (2.8.3-2ubuntu0.1) ...\n",
            "Looking in indexes: https://pypi.org/simple, https://us-python.pkg.dev/colab-wheels/public/simple/\n",
            "Collecting pytesseract\n",
            "  Downloading pytesseract-0.3.10-py3-none-any.whl (14 kB)\n",
            "Collecting Pillow>=8.0.0\n",
            "  Downloading Pillow-9.2.0-cp37-cp37m-manylinux_2_17_x86_64.manylinux2014_x86_64.whl (3.1 MB)\n",
            "\u001b[K     |████████████████████████████████| 3.1 MB 19.9 MB/s \n",
            "\u001b[?25hRequirement already satisfied: packaging>=21.3 in /usr/local/lib/python3.7/dist-packages (from pytesseract) (21.3)\n",
            "Requirement already satisfied: pyparsing!=3.0.5,>=2.0.2 in /usr/local/lib/python3.7/dist-packages (from packaging>=21.3->pytesseract) (3.0.9)\n",
            "Installing collected packages: Pillow, pytesseract\n",
            "  Attempting uninstall: Pillow\n",
            "    Found existing installation: Pillow 7.1.2\n",
            "    Uninstalling Pillow-7.1.2:\n",
            "      Successfully uninstalled Pillow-7.1.2\n",
            "Successfully installed Pillow-9.2.0 pytesseract-0.3.10\n"
          ]
        },
        {
          "output_type": "display_data",
          "data": {
            "application/vnd.colab-display-data+json": {
              "pip_warning": {
                "packages": [
                  "PIL"
                ]
              }
            }
          },
          "metadata": {}
        }
      ]
    },
    {
      "cell_type": "code",
      "execution_count": 1,
      "metadata": {
        "id": "LcVQ1DKJiA2l",
        "colab": {
          "base_uri": "https://localhost:8080/"
        },
        "outputId": "77ed32fe-b975-4698-802e-3a638c52fb86"
      },
      "outputs": [
        {
          "output_type": "stream",
          "name": "stdout",
          "text": [
            "OpenCV version: 4.6.0\n"
          ]
        }
      ],
      "source": [
        "import pandas as pd\n",
        "import numpy as np\n",
        "import matplotlib.pyplot as plt\n",
        "import pytesseract\n",
        "import cv2\n",
        "import re\n",
        "from glob import glob\n",
        "from tqdm import tqdm\n",
        "from tabulate import tabulate\n",
        "from google.colab.patches import cv2_imshow\n",
        "from sklearn.cluster import AgglomerativeClustering\n",
        "\n",
        "print(f\"OpenCV version: {cv2.__version__}\")"
      ]
    },
    {
      "cell_type": "code",
      "source": [
        "images = glob('data/*.png')\n",
        "images"
      ],
      "metadata": {
        "colab": {
          "base_uri": "https://localhost:8080/"
        },
        "id": "-oLg5PbtgVGk",
        "outputId": "5a8b1057-368b-48ff-87f6-9a7f6779429c"
      },
      "execution_count": 8,
      "outputs": [
        {
          "output_type": "execute_result",
          "data": {
            "text/plain": [
              "['data/Rent_Report_Graphic__-_August_2022_2.width-720.png',\n",
              " 'data/Rent_Report_-_October_2020.width-720.png',\n",
              " 'data/Rent_Report_-_July_2020.width-720-1.png',\n",
              " 'data/Rent_Report_-_October_2019.width-720.png',\n",
              " 'data/Rent_Report_-_August_2021.width-720.png',\n",
              " 'data/Rent_Report_-_March_2022.width-720.png',\n",
              " 'data/Rent_Report_-_December_2019.width-720.png',\n",
              " 'data/Rent_Report_-_April_2020.width-720-469x1024.png',\n",
              " 'data/Rent_Report_-_December_2021.width-720.png',\n",
              " 'data/Rent_Report_-_January_2021_2.width-720.png',\n",
              " 'data/Rent_Report_-_September_2020.width-720.png',\n",
              " 'data/Rent_Report_-December_2020_1.width-720.png',\n",
              " 'data/Rent_Report_-_April_2022.width-720.png',\n",
              " 'data/rent_report_-_november_2021.width-720.png',\n",
              " 'data/Rent_Report_Infographic_10.width-720-483x1024.png',\n",
              " 'data/Final_March-rent_Report-rankings-483x1024.png',\n",
              " 'data/Rent_Report_Graphic_template_-_June_2022.width-720.png',\n",
              " 'data/Rent_Report_-_May_2020.width-720-1-439x1024.png',\n",
              " 'data/Rent_Report_-_May_2022_.width-720.png',\n",
              " 'data/Rent_Report_-_February_2021.width-720.png',\n",
              " 'data/Rent_Report_Graphic__-_July_2022.width-720.png',\n",
              " 'data/Rent_Report_-_April_2021_1.width-720.png',\n",
              " 'data/Rent-Report-November-2020-1-1-e1611353009250.png',\n",
              " 'data/Rent_Report_-_August_2020.width-720.png',\n",
              " 'data/Rent_Report_-_March_2020.width-720-401x1024.png',\n",
              " 'data/image_2.width-720.png',\n",
              " 'data/Rent_Report_-_May_2019.width-720-431x1024.png',\n",
              " 'data/Rent_Report_-_June_2020.width-720.png',\n",
              " 'data/Rent_Report_-_June_2019.width-720.png',\n",
              " 'data/Rent_Report_-_February_2022_2.width-720.png',\n",
              " 'data/Rent_Report_-_July_2019.width-720.png',\n",
              " 'data/Rent_Report_-_September_2021_1.width-720.png',\n",
              " 'data/Rent_Report_-_June_2021_1.width-720.png',\n",
              " 'data/image.width-720.png',\n",
              " 'data/Rent_Report_-_October_2021.width-720.png',\n",
              " 'data/Rent_Report_-_March_2021.width-720.png',\n",
              " 'data/Rent_Report_-_April_2019.width-720-431x1024.png',\n",
              " 'data/Rent_Report_-_February_2020.width-720.png',\n",
              " 'data/rent_report_-_january_2022_2.width-720.png',\n",
              " 'data/Rentals.ca_-_Rent_Report_-_January_2019.width-720-483x1024.png']"
            ]
          },
          "metadata": {},
          "execution_count": 8
        }
      ]
    },
    {
      "cell_type": "code",
      "source": [
        "# Preprocessing parameters\n",
        "preprocess_args = {\n",
        "        \"resize\": 1100,\n",
        "        \"grayscale\": True,\n",
        "        \"thresholding\": \"binary\",\n",
        "        \"thresh_value\": 160\n",
        "}"
      ],
      "metadata": {
        "id": "G0v-3TpKh5ei"
      },
      "execution_count": 9,
      "outputs": []
    },
    {
      "cell_type": "code",
      "source": [
        "def preprocess(image,\n",
        "               resize = False,\n",
        "               preserve_ar = False,\n",
        "               grayscale = False,\n",
        "               gaussian_blur = False,\n",
        "               thresholding = False,\n",
        "               thresh_value = 127,\n",
        "               verbose = True):\n",
        "  '''\n",
        "  Preprocess image object input with:\n",
        "  image: image input file path;\n",
        "  resize: Resize to desired width and height dimensions. Takes arguments tuple\n",
        "    (width, height), single Integer as target width or false boolean. Will\n",
        "    inforce aspect ratio based on passed target width if preserve_ar argument is\n",
        "    set to True. Default = False. Default = True if resize argument is integer;\n",
        "  preserve_ar: Boolean argument to preserve original image's Aspect Ratio or\n",
        "    redefine based on 'resize' input. Default = True;\n",
        "  grayscale: OpenCV grayscaling. Takes argument boolean = True or False.\n",
        "    Default = False;\n",
        "  gaussian_blur: Smooth image input with a gaussian blurring method. Takes\n",
        "    arguments Integer kernel size or false boolean. Default = False;\n",
        "  thresholding: OpenCV simple thresholding. Takes arguments [binary, binary_inv]\n",
        "    or false boolean. Default = False;\n",
        "  thresh_value: OpenCV threshold value. Takes argument Int. Default = 127;\n",
        "  '''\n",
        "  # Image load and input dimensions\n",
        "  input_file = image\n",
        "  image = cv2.imread(image)\n",
        "  input_height = int(image.shape[0])\n",
        "  input_width = int(image.shape[1])\n",
        "  aspect_ratio = input_height/input_width\n",
        "  \n",
        "  if verbose:\n",
        "    print(f\"Processing input file: {input_file}...\")\n",
        "\n",
        "  # Resizing\n",
        "  if type(resize) == int:\n",
        "    resize = (resize,)\n",
        "    preserve_ar = True\n",
        "\n",
        "  if resize:\n",
        "    if preserve_ar:\n",
        "      image = cv2.resize(image, (resize[0], int(resize[0]*aspect_ratio)))\n",
        "    else:\n",
        "      image = cv2.resize(image, resize)\n",
        "  \n",
        "  output_height = int(image.shape[0])\n",
        "  output_width = int(image.shape[1])\n",
        "\n",
        "  # Gray-scaling\n",
        "  if grayscale:\n",
        "    image = cv2.cvtColor(image, cv2.COLOR_BGR2GRAY)\n",
        "\n",
        "  # Blurring\n",
        "  if gaussian_blur:\n",
        "    image = cv2.GaussianBlur(image, (5, 5), gaussian_blur)\n",
        "\n",
        "  # Thresholding\n",
        "  if thresholding:\n",
        "    if thresholding == \"binary\":\n",
        "      image = cv2.threshold(image, thresh_value, 255, cv2.THRESH_BINARY_INV)[1]\n",
        "    elif thresholding == \"binary_inv\":\n",
        "      image = cv2.threshold(image, thresh_value, 255, cv2.THRESH_BINARY_INV)[1]\n",
        "    else:\n",
        "      print(\"Invalid thresholding argument!\")\n",
        "  \n",
        "  if verbose:\n",
        "    print(f\"Image input dimensions: {(input_width, input_height)}\\n\"\\\n",
        "          f\"Image output dimensions: {(output_width, output_height)}\\n\")\n",
        "  return image"
      ],
      "metadata": {
        "id": "cveMb8ngPcCL"
      },
      "execution_count": 10,
      "outputs": []
    },
    {
      "cell_type": "code",
      "source": [
        "'''\n",
        "get top left coordinate\n",
        "get height and width\n",
        "\n",
        "compare horizontal distance and store diff\n",
        "  h_gap = x1 - (x0 + w0)\n",
        "  # if h_gap is higher than a threshold, it means that text1 is in a new column\n",
        "\n",
        "compare vertical distance and store diff\n",
        "  v_gap = y1 - (y0 + h0)\n",
        "  # If v_gap is positive, it means that text1 is in a new line\n",
        "\n",
        "store coordinate when a big gap is found\n",
        "\n",
        "'''"
      ],
      "metadata": {
        "id": "Qj0k_u8cedy7"
      },
      "execution_count": null,
      "outputs": []
    },
    {
      "cell_type": "code",
      "source": [
        "def draw_table(image):\n",
        "  OCRdict = pytesseract.image_to_data(image,\n",
        "                                      lang = 'eng',\n",
        "                                      output_type = pytesseract.Output.DICT)\n",
        "  \n",
        "  # Initializing coords, gaps, and OCR text list\n",
        "  coords = []\n",
        "  h_gaps = []\n",
        "  v_gaps = []\n",
        "  OCRtext = []\n",
        "\n",
        "  # Flags to manage text and table content\n",
        "  within_table = 0\n",
        "\n",
        "  for i in range(0, len(OCRdict[\"text\"])):\n",
        "    # Retrieving current text and coordinates\n",
        "    x0 = OCRdict[\"left\"][i]\n",
        "    y0 = OCRdict[\"top\"][i]\n",
        "    w0 = OCRdict[\"width\"][i]\n",
        "    h0 = OCRdict[\"height\"][i]\n",
        "    text0 = OCRdict[\"text\"][i]\n",
        "\n",
        "    # Retrieving following text and coordinates\n",
        "    try:\n",
        "      x1 = OCRdict[\"left\"][i+1]\n",
        "      y1 = OCRdict[\"top\"][i+1]\n",
        "      w1 = OCRdict[\"width\"][i+1]\n",
        "      h1 = OCRdict[\"height\"][i+1]\n",
        "      text1 = OCRdict[\"text\"][i+1]\n",
        "    except:\n",
        "      pass\n",
        "    \n",
        "    # Calculating vertical and horizontal gaps\n",
        "    h_gap = x1 - (x0 + w0)\n",
        "    v_gap = y1 - (y0 + h0)\n",
        "\n",
        "    # Initializing table on header first column 'rank'\n",
        "    if \"RANK\" in text0:\n",
        "      within_table = 1\n",
        "\n",
        "    # Ending table on 'grand total'\n",
        "    if (\"grand\" in text0.lower()) and (\"total\" in text1.lower()):\n",
        "      within_table = 0\n",
        "\n",
        "    # Ending table on 'average'\n",
        "    if \"average\" in text0.lower():\n",
        "      within_table = 0\n",
        "\n",
        "    if within_table:\n",
        "      coords.append((x0, y0, w0, h0))\n",
        "      h_gaps.append(h_gap)\n",
        "      v_gaps.append(v_gap)\n",
        "      OCRtext.append(text0)\n",
        "\n",
        "  return coords, h_gaps, v_gaps, OCRtext"
      ],
      "metadata": {
        "id": "e2xgp3mIg1zL"
      },
      "execution_count": 49,
      "outputs": []
    },
    {
      "cell_type": "code",
      "source": [
        "preprocessed = preprocess(images[-1],\n",
        "                          resize = preprocess_args['resize'],\n",
        "                          grayscale = preprocess_args['grayscale'],\n",
        "                          thresholding = preprocess_args['thresholding'],\n",
        "                          thresh_value = preprocess_args['thresh_value'])\n",
        "\n",
        "coords, h_gaps, v_gaps, OCRtext = draw_table(preprocessed)"
      ],
      "metadata": {
        "colab": {
          "base_uri": "https://localhost:8080/"
        },
        "id": "x3QGE0ByjNNi",
        "outputId": "ba226ccc-d97a-4f1d-d5a3-198dbd348564"
      },
      "execution_count": 177,
      "outputs": [
        {
          "output_type": "stream",
          "name": "stdout",
          "text": [
            "Processing input file: data/Rentals.ca_-_Rent_Report_-_January_2019.width-720-483x1024.png...\n",
            "Image input dimensions: (483, 1024)\n",
            "Image output dimensions: (1100, 2332)\n",
            "\n"
          ]
        }
      ]
    },
    {
      "cell_type": "code",
      "source": [
        "for c, h, v, t in zip(coords, h_gaps, v_gaps, OCRtext):\n",
        "  print(f\"coords: {c}\\t h_gap: {h}\\t v_gap: {v}\\t text: {t}\")"
      ],
      "metadata": {
        "colab": {
          "base_uri": "https://localhost:8080/"
        },
        "id": "RavwtFYwMvrG",
        "outputId": "ca62a5ca-58d6-42b1-873d-c3dd302bd969"
      },
      "execution_count": 178,
      "outputs": [
        {
          "output_type": "stream",
          "name": "stdout",
          "text": [
            "coords: (50, 749, 53, 15)\t h_gap: 42\t v_gap: -15\t text: RANK\n",
            "coords: (145, 749, 43, 15)\t h_gap: 352\t v_gap: -15\t text: ar\n",
            "coords: (540, 749, 112, 15)\t h_gap: 33\t v_gap: -15\t text: {BEDROOM\n",
            "coords: (685, 749, 40, 15)\t h_gap: 95\t v_gap: -15\t text: MM\n",
            "coords: (820, 749, 116, 15)\t h_gap: 29\t v_gap: -15\t text: 2BEDROOM\n",
            "coords: (965, 749, 40, 15)\t h_gap: -953\t v_gap: 37\t text: MM\n",
            "coords: (52, 801, 842, 23)\t h_gap: -842\t v_gap: -22\t text: \n",
            "coords: (52, 802, 12, 22)\t h_gap: 93\t v_gap: -22\t text: 1\n",
            "coords: (157, 802, 91, 21)\t h_gap: 7\t v_gap: -21\t text: Toronto,\n",
            "coords: (255, 802, 36, 19)\t h_gap: 248\t v_gap: -20\t text: ON\n",
            "coords: (539, 801, 67, 22)\t h_gap: 80\t v_gap: -10\t text: $2135\n",
            "coords: (686, 813, 6, 3)\t h_gap: 129\t v_gap: -14\t text: -\n",
            "coords: (821, 802, 73, 21)\t h_gap: -842\t v_gap: 33\t text: $2.577\n",
            "coords: (52, 856, 951, 24)\t h_gap: -951\t v_gap: -24\t text: \n",
            "coords: (52, 856, 17, 23)\t h_gap: 89\t v_gap: -22\t text: 2\n",
            "coords: (158, 857, 141, 23)\t h_gap: 6\t v_gap: -23\t text: Missiesauga,\n",
            "coords: (305, 857, 35, 18)\t h_gap: 199\t v_gap: -19\t text: ON\n",
            "coords: (539, 856, 71, 22)\t h_gap: 76\t v_gap: -20\t text: $1,825\n",
            "coords: (686, 858, 39, 19)\t h_gap: 95\t v_gap: -21\t text: -2%\n",
            "coords: (820, 856, 64, 22)\t h_gap: 81\t v_gap: -20\t text: $2,2n\n",
            "coords: (965, 858, 38, 19)\t h_gap: -951\t v_gap: 34\t text: -3%\n",
            "coords: (52, 911, 946, 23)\t h_gap: -946\t v_gap: -22\t text: \n",
            "coords: (52, 912, 17, 22)\t h_gap: 88\t v_gap: -21\t text: 3\n",
            "coords: (157, 913, 121, 19)\t h_gap: 9\t v_gap: -20\t text: Vancouver,\n",
            "coords: (287, 912, 31, 18)\t h_gap: 221\t v_gap: -19\t text: BC\n",
            "coords: (539, 911, 67, 22)\t h_gap: 80\t v_gap: -20\t text: $1768\n",
            "coords: (686, 913, 38, 18)\t h_gap: 96\t v_gap: -20\t text: -8%\n",
            "coords: (820, 911, 70, 22)\t h_gap: 76\t v_gap: -20\t text: $2,541\n",
            "coords: (966, 913, 32, 18)\t h_gap: -946\t v_gap: 37\t text: 1%\n",
            "coords: (52, 968, 951, 23)\t h_gap: -951\t v_gap: -23\t text: \n",
            "coords: (52, 968, 19, 23)\t h_gap: 86\t v_gap: -23\t text: 4\n",
            "coords: (157, 968, 87, 21)\t h_gap: 6\t v_gap: -21\t text: Ottawa,\n",
            "coords: (250, 968, 36, 19)\t h_gap: 253\t v_gap: -19\t text: ON\n",
            "coords: (539, 968, 72, 22)\t h_gap: 75\t v_gap: -20\t text: $1,608\n",
            "coords: (686, 970, 44, 18)\t h_gap: 90\t v_gap: -20\t text: +5%\n",
            "coords: (820, 968, 71, 21)\t h_gap: 74\t v_gap: -19\t text: $1,959\n",
            "coords: (965, 970, 38, 18)\t h_gap: -950\t v_gap: 35\t text: -3%\n",
            "coords: (53, 1023, 950, 23)\t h_gap: -950\t v_gap: -23\t text: \n",
            "coords: (53, 1023, 17, 23)\t h_gap: 87\t v_gap: -22\t text: 5\n",
            "coords: (157, 1024, 55, 20)\t h_gap: 6\t v_gap: -20\t text: York,\n",
            "coords: (218, 1024, 37, 18)\t h_gap: 284\t v_gap: -19\t text: ON\n",
            "coords: (539, 1023, 69, 21)\t h_gap: 78\t v_gap: -19\t text: $1,570\n",
            "coords: (686, 1025, 38, 18)\t h_gap: 96\t v_gap: -20\t text: +1%\n",
            "coords: (820, 1023, 70, 21)\t h_gap: 76\t v_gap: -20\t text: $2,214\n",
            "coords: (966, 1024, 37, 19)\t h_gap: -951\t v_gap: 34\t text: -3%\n",
            "coords: (52, 1077, 952, 24)\t h_gap: -952\t v_gap: -23\t text: \n",
            "coords: (52, 1078, 19, 23)\t h_gap: 87\t v_gap: -22\t text: 6\n",
            "coords: (158, 1079, 116, 22)\t h_gap: 6\t v_gap: -23\t text: Brampton,\n",
            "coords: (280, 1078, 36, 19)\t h_gap: 223\t v_gap: -20\t text: ON\n",
            "coords: (539, 1077, 64, 23)\t h_gap: 83\t v_gap: -21\t text: $1514\n",
            "coords: (686, 1079, 38, 19)\t h_gap: 96\t v_gap: -21\t text: -3%\n",
            "coords: (820, 1077, 64, 22)\t h_gap: 82\t v_gap: -20\t text: $1,681\n",
            "coords: (966, 1079, 38, 19)\t h_gap: -952\t v_gap: 35\t text: -2%\n",
            "coords: (52, 1133, 952, 22)\t h_gap: -952\t v_gap: -22\t text: \n",
            "coords: (52, 1133, 17, 22)\t h_gap: 88\t v_gap: -21\t text: 7\n",
            "coords: (157, 1134, 96, 20)\t h_gap: 7\t v_gap: -20\t text: Oshawe,\n",
            "coords: (260, 1134, 36, 18)\t h_gap: 243\t v_gap: -19\t text: ON\n",
            "coords: (539, 1133, 69, 21)\t h_gap: 78\t v_gap: -10\t text: $1,397\n",
            "coords: (686, 1144, 6, 4)\t h_gap: 128\t v_gap: -15\t text: :\n",
            "coords: (820, 1133, 69, 21)\t h_gap: 77\t v_gap: -20\t text: $1,464\n",
            "coords: (966, 1134, 38, 19)\t h_gap: -952\t v_gap: 36\t text: -5%\n",
            "coords: (52, 1189, 957, 24)\t h_gap: -957\t v_gap: -24\t text: \n",
            "coords: (52, 1189, 18, 23)\t h_gap: 87\t v_gap: -22\t text: 8\n",
            "coords: (157, 1190, 149, 23)\t h_gap: 6\t v_gap: -23\t text: Scarborough,\n",
            "coords: (312, 1190, 37, 18)\t h_gap: 190\t v_gap: -19\t text: ON\n",
            "coords: (539, 1189, 63, 22)\t h_gap: 84\t v_gap: -20\t text: $1,313\n",
            "coords: (686, 1191, 39, 18)\t h_gap: 95\t v_gap: -20\t text: 2%\n",
            "coords: (820, 1189, 66, 22)\t h_gap: 80\t v_gap: -20\t text: $1727\n",
            "coords: (966, 1191, 43, 18)\t h_gap: -957\t v_gap: 35\t text: +2%\n",
            "coords: (52, 1244, 952, 24)\t h_gap: -952\t v_gap: -23\t text: \n",
            "coords: (52, 1245, 18, 22)\t h_gap: 87\t v_gap: -22\t text: 9\n",
            "coords: (157, 1245, 90, 23)\t h_gap: 6\t v_gap: -23\t text: Calgary,\n",
            "coords: (253, 1245, 33, 18)\t h_gap: 253\t v_gap: -19\t text: AB\n",
            "coords: (539, 1244, 69, 21)\t h_gap: 78\t v_gap: -19\t text: $1,270\n",
            "coords: (686, 1246, 43, 18)\t h_gap: 91\t v_gap: -20\t text: +4%\n",
            "coords: (820, 1244, 69, 21)\t h_gap: 77\t v_gap: -19\t text: $1,448\n",
            "coords: (966, 1246, 38, 18)\t h_gap: -952\t v_gap: 35\t text: 2%\n",
            "coords: (52, 1299, 952, 24)\t h_gap: -952\t v_gap: -24\t text: \n",
            "coords: (52, 1299, 31, 23)\t h_gap: 75\t v_gap: -22\t text: 10\n",
            "coords: (158, 1300, 45, 19)\t h_gap: 6\t v_gap: -19\t text: Fort\n",
            "coords: (209, 1300, 115, 23)\t h_gap: 7\t v_gap: -23\t text: McMurrey,\n",
            "coords: (331, 1300, 34, 18)\t h_gap: 174\t v_gap: -19\t text: AB\n",
            "coords: (539, 1299, 70, 22)\t h_gap: 77\t v_gap: -21\t text: $1,236\n",
            "coords: (686, 1300, 38, 19)\t h_gap: 96\t v_gap: -20\t text: -2%\n",
            "coords: (820, 1299, 69, 22)\t h_gap: 76\t v_gap: -21\t text: $1,345\n",
            "coords: (965, 1300, 39, 19)\t h_gap: -952\t v_gap: 35\t text: 5%\n",
            "coords: (52, 1354, 951, 22)\t h_gap: -951\t v_gap: -21\t text: \n",
            "coords: (52, 1355, 24, 21)\t h_gap: 82\t v_gap: -21\t text: n\n",
            "coords: (158, 1355, 106, 20)\t h_gap: 7\t v_gap: -20\t text: Hamilton,\n",
            "coords: (271, 1355, 36, 18)\t h_gap: 232\t v_gap: -19\t text: ON\n",
            "coords: (539, 1354, 61, 21)\t h_gap: 86\t v_gap: -19\t text: $1163\n",
            "coords: (686, 1356, 32, 17)\t h_gap: 102\t v_gap: -19\t text: 1%\n",
            "coords: (820, 1354, 70, 21)\t h_gap: 76\t v_gap: -19\t text: $1329\n",
            "coords: (966, 1356, 37, 17)\t h_gap: -951\t v_gap: 37\t text: 41%\n",
            "coords: (52, 1410, 951, 23)\t h_gap: -951\t v_gap: -22\t text: \n",
            "coords: (52, 1411, 30, 22)\t h_gap: 76\t v_gap: -22\t text: 12\n",
            "coords: (158, 1411, 109, 21)\t h_gap: 7\t v_gap: -21\t text: Kitchener,\n",
            "coords: (274, 1411, 36, 19)\t h_gap: 229\t v_gap: -20\t text: ON\n",
            "coords: (539, 1410, 62, 22)\t h_gap: 85\t v_gap: -11\t text: $1128\n",
            "coords: (686, 1421, 6, 5)\t h_gap: 128\t v_gap: -16\t text: :\n",
            "coords: (820, 1410, 64, 22)\t h_gap: 82\t v_gap: -20\t text: $1,313\n",
            "coords: (966, 1412, 37, 18)\t h_gap: -951\t v_gap: 36\t text: 4%\n",
            "coords: (52, 1466, 957, 22)\t h_gap: -957\t v_gap: -22\t text: \n",
            "coords: (52, 1466, 30, 22)\t h_gap: 76\t v_gap: -22\t text: 13\n",
            "coords: (158, 1466, 82, 21)\t h_gap: 8\t v_gap: -21\t text: Halifax,\n",
            "coords: (248, 1466, 32, 19)\t h_gap: 259\t v_gap: -19\t text: NS\n",
            "coords: (539, 1466, 72, 21)\t h_gap: 75\t v_gap: -20\t text: $1,090\n",
            "coords: (686, 1467, 38, 18)\t h_gap: 96\t v_gap: -19\t text: 41%\n",
            "coords: (820, 1466, 69, 21)\t h_gap: 77\t v_gap: -20\t text: $1,363\n",
            "coords: (966, 1467, 43, 18)\t h_gap: -957\t v_gap: 35\t text: +2%\n",
            "coords: (52, 1520, 957, 23)\t h_gap: -957\t v_gap: -22\t text: \n",
            "coords: (52, 1521, 30, 22)\t h_gap: 76\t v_gap: -22\t text: \"“\n",
            "coords: (158, 1521, 120, 21)\t h_gap: 6\t v_gap: -21\t text: Edmonton,\n",
            "coords: (284, 1521, 33, 19)\t h_gap: 222\t v_gap: -20\t text: AB\n",
            "coords: (539, 1520, 65, 22)\t h_gap: 82\t v_gap: -20\t text: $1,081\n",
            "coords: (686, 1522, 38, 18)\t h_gap: 96\t v_gap: -20\t text: +1%\n",
            "coords: (820, 1520, 71, 22)\t h_gap: 74\t v_gap: -20\t text: $1,300\n",
            "coords: (965, 1522, 44, 18)\t h_gap: -957\t v_gap: 35\t text: 43%\n",
            "coords: (52, 1575, 961, 24)\t h_gap: -961\t v_gap: -23\t text: \n",
            "coords: (52, 1576, 30, 23)\t h_gap: 76\t v_gap: -23\t text: 15\n",
            "coords: (158, 1576, 104, 20)\t h_gap: 7\t v_gap: -20\t text: Montréal,\n",
            "coords: (269, 1576, 35, 19)\t h_gap: 235\t v_gap: -20\t text: QC\n",
            "coords: (539, 1575, 70, 22)\t h_gap: 77\t v_gap: -20\t text: $1.067\n",
            "coords: (686, 1577, 47, 18)\t h_gap: 87\t v_gap: -20\t text: “16%\n",
            "coords: (820, 1575, 64, 21)\t h_gap: 81\t v_gap: -19\t text: $1,651\n",
            "coords: (965, 1577, 48, 18)\t h_gap: -961\t v_gap: 37\t text: -10%\n",
            "coords: (52, 1632, 951, 24)\t h_gap: -951\t v_gap: -24\t text: \n",
            "coords: (52, 1632, 31, 23)\t h_gap: 75\t v_gap: -23\t text: 6\n",
            "coords: (158, 1632, 82, 24)\t h_gap: 6\t v_gap: -24\t text: Regina,\n",
            "coords: (246, 1632, 30, 19)\t h_gap: 263\t v_gap: -19\t text: SK\n",
            "coords: (539, 1632, 69, 21)\t h_gap: 78\t v_gap: -20\t text: $1.047\n",
            "coords: (686, 1633, 38, 18)\t h_gap: 96\t v_gap: -19\t text: +1%\n",
            "coords: (820, 1632, 62, 21)\t h_gap: 84\t v_gap: -20\t text: $1176\n",
            "coords: (966, 1633, 37, 18)\t h_gap: -951\t v_gap: 36\t text: +1%\n",
            "coords: (52, 1687, 951, 22)\t h_gap: -951\t v_gap: -22\t text: \n",
            "coords: (52, 1687, 29, 22)\t h_gap: 76\t v_gap: -21\t text: 7\n",
            "coords: (157, 1688, 87, 20)\t h_gap: 6\t v_gap: -21\t text: Verdun,\n",
            "coords: (250, 1687, 35, 19)\t h_gap: 254\t v_gap: -19\t text: QC\n",
            "coords: (539, 1687, 70, 21)\t h_gap: 77\t v_gap: -19\t text: $1,007\n",
            "coords: (686, 1689, 32, 17)\t h_gap: 102\t v_gap: -19\t text: 1%\n",
            "coords: (820, 1687, 69, 21)\t h_gap: 77\t v_gap: -19\t text: $1.432\n",
            "coords: (966, 1689, 37, 17)\t h_gap: -951\t v_gap: 35\t text: 1%\n",
            "coords: (52, 1741, 957, 25)\t h_gap: -957\t v_gap: -24\t text: \n",
            "coords: (52, 1742, 30, 23)\t h_gap: 75\t v_gap: -23\t text: 2\n",
            "coords: (157, 1742, 112, 24)\t h_gap: 6\t v_gap: -24\t text: Winnipeg,\n",
            "coords: (275, 1742, 37, 19)\t h_gap: 227\t v_gap: -20\t text: MB\n",
            "coords: (539, 1741, 57, 22)\t h_gap: 89\t v_gap: -19\t text: $998\n",
            "coords: (685, 1744, 39, 18)\t h_gap: 96\t v_gap: -20\t text: +\n",
            "coords: (820, 1742, 70, 21)\t h_gap: 75\t v_gap: -19\t text: $1,254\n",
            "coords: (965, 1744, 44, 17)\t h_gap: -957\t v_gap: 36\t text: +2%\n",
            "coords: (52, 1797, 957, 23)\t h_gap: -957\t v_gap: -23\t text: \n",
            "coords: (52, 1797, 30, 23)\t h_gap: 75\t v_gap: -23\t text: 9\n",
            "coords: (157, 1797, 67, 19)\t h_gap: 8\t v_gap: -19\t text: Grand\n",
            "coords: (232, 1797, 78, 20)\t h_gap: 6\t v_gap: -20\t text: Prairie,\n",
            "coords: (316, 1797, 33, 18)\t h_gap: 190\t v_gap: -18\t text: AB\n",
            "coords: (539, 1797, 58, 21)\t h_gap: 89\t v_gap: -19\t text: $990\n",
            "coords: (686, 1799, 43, 18)\t h_gap: 92\t v_gap: -20\t text: +3%\n",
            "coords: (821, 1797, 61, 21)\t h_gap: 84\t v_gap: -19\t text: $1,183\n",
            "coords: (966, 1799, 43, 17)\t h_gap: -957\t v_gap: 37\t text: +2%\n",
            "coords: (52, 1853, 958, 23)\t h_gap: -958\t v_gap: -23\t text: \n",
            "coords: (52, 1853, 37, 23)\t h_gap: 69\t v_gap: -22\t text: 20\n",
            "coords: (158, 1854, 41, 19)\t h_gap: 8\t v_gap: -19\t text: Red\n",
            "coords: (207, 1854, 57, 21)\t h_gap: 6\t v_gap: -21\t text: Deer,\n",
            "coords: (270, 1854, 33, 18)\t h_gap: 236\t v_gap: -19\t text: AB\n",
            "coords: (539, 1853, 55, 22)\t h_gap: 91\t v_gap: -20\t text: $976\n",
            "coords: (685, 1855, 33, 18)\t h_gap: 102\t v_gap: -20\t text: -t%\n",
            "coords: (820, 1853, 63, 22)\t h_gap: 82\t v_gap: -20\t text: $1120\n",
            "coords: (965, 1855, 45, 18)\t h_gap: -958\t v_gap: 35\t text: +2%\n",
            "coords: (52, 1908, 825, 23)\t h_gap: -825\t v_gap: -23\t text: \n",
            "coords: (52, 1908, 30, 23)\t h_gap: 76\t v_gap: -22\t text: 21\n",
            "coords: (158, 1909, 122, 20)\t h_gap: 7\t v_gap: -20\t text: Saskatoon,\n",
            "coords: (287, 1909, 30, 18)\t h_gap: 222\t v_gap: -19\t text: SK\n",
            "coords: (539, 1908, 56, 21)\t h_gap: 91\t v_gap: -19\t text: $935\n",
            "coords: (686, 1910, 32, 17)\t h_gap: 103\t v_gap: -19\t text: -1%\n",
            "coords: (821, 1908, 56, 21)\t h_gap: -825\t v_gap: 34\t text: $1.16\n",
            "coords: (52, 1963, 951, 23)\t h_gap: -951\t v_gap: -23\t text: \n",
            "coords: (52, 1963, 36, 23)\t h_gap: 70\t v_gap: -22\t text: 22\n",
            "coords: (158, 1964, 89, 20)\t h_gap: 6\t v_gap: -21\t text: London,\n",
            "coords: (253, 1963, 36, 19)\t h_gap: 250\t v_gap: -19\t text: ON\n",
            "coords: (539, 1963, 51, 21)\t h_gap: 95\t v_gap: -19\t text: $921\n",
            "coords: (685, 1965, 33, 18)\t h_gap: 102\t v_gap: -20\t text: 1%\n",
            "coords: (820, 1963, 71, 21)\t h_gap: 74\t v_gap: -19\t text: $1.054\n",
            "coords: (965, 1965, 38, 18)\t h_gap: -951\t v_gap: 35\t text: -3%\n",
            "coords: (52, 2018, 838, 23)\t h_gap: -838\t v_gap: -23\t text: \n",
            "coords: (52, 2018, 36, 23)\t h_gap: 70\t v_gap: -22\t text: 23\n",
            "coords: (158, 2019, 125, 22)\t h_gap: 6\t v_gap: -22\t text: Lethbridge,\n",
            "coords: (289, 2019, 33, 17)\t h_gap: 217\t v_gap: -18\t text: AB\n",
            "coords: (539, 2018, 55, 21)\t h_gap: 92\t v_gap: -10\t text: $870\n",
            "coords: (686, 2029, 6, 3)\t h_gap: 128\t v_gap: -14\t text: -\n",
            "coords: (820, 2018, 70, 21)\t h_gap: -838\t v_gap: 35\t text: $1,027\n",
            "coords: (52, 2074, 957, 24)\t h_gap: -957\t v_gap: -24\t text: \n",
            "coords: (52, 2074, 37, 23)\t h_gap: 68\t v_gap: -23\t text: 24\n",
            "coords: (157, 2074, 87, 20)\t h_gap: 6\t v_gap: -19\t text: Québec\n",
            "coords: (250, 2075, 49, 23)\t h_gap: 6\t v_gap: -23\t text: City,\n",
            "coords: (305, 2075, 35, 19)\t h_gap: 199\t v_gap: -20\t text: @C\n",
            "coords: (539, 2074, 49, 22)\t h_gap: 97\t v_gap: -10\t text: $317\n",
            "coords: (685, 2086, 7, 3)\t h_gap: 128\t v_gap: -15\t text: :\n",
            "coords: (820, 2074, 57, 22)\t h_gap: 88\t v_gap: -20\t text: $955\n",
            "coords: (965, 2076, 44, 19)\t h_gap: -957\t v_gap: 34\t text: +3%\n",
            "coords: (52, 2129, 832, 23)\t h_gap: -832\t v_gap: -23\t text: \n",
            "coords: (52, 2129, 37, 23)\t h_gap: 69\t v_gap: -22\t text: 25\n",
            "coords: (158, 2130, 45, 18)\t h_gap: 6\t v_gap: -18\t text: Fort\n",
            "coords: (209, 2130, 28, 18)\t h_gap: 7\t v_gap: -17\t text: St.\n",
            "coords: (244, 2131, 60, 19)\t h_gap: 8\t v_gap: -20\t text: John,\n",
            "coords: (312, 2130, 31, 18)\t h_gap: 196\t v_gap: -19\t text: BC\n",
            "coords: (539, 2129, 47, 22)\t h_gap: 100\t v_gap: -10\t text: $7”\n",
            "coords: (686, 2141, 6, 3)\t h_gap: 129\t v_gap: -15\t text: -\n",
            "coords: (821, 2129, 63, 21)\t h_gap: -726\t v_gap: 42\t text: $1100\n",
            "coords: (158, 2192, 847, 22)\t h_gap: -847\t v_gap: -22\t text: \n",
            "coords: (158, 2192, 847, 22)\t h_gap: -847\t v_gap: -22\t text: \n"
          ]
        }
      ]
    },
    {
      "cell_type": "code",
      "source": [
        "# X coordinates are good for clustering to define number of columns\n",
        "plt.figure(figsize = (8, 6))\n",
        "plt.title(\"X Coordinates\")\n",
        "plt.hist([x[0] for x in coords], bins = 50)\n",
        "plt.show()"
      ],
      "metadata": {
        "colab": {
          "base_uri": "https://localhost:8080/",
          "height": 390
        },
        "id": "R8XkAzzLSYd_",
        "outputId": "94d0d07a-e258-41ce-cdda-2f9d485b7465"
      },
      "execution_count": 179,
      "outputs": [
        {
          "output_type": "display_data",
          "data": {
            "text/plain": [
              "<Figure size 576x432 with 1 Axes>"
            ],
            "image/png": "[encoded data removed]"
          },
          "metadata": {
            "needs_background": "light"
          }
        }
      ]
    },
    {
      "cell_type": "code",
      "source": [
        "x_coords = [(x[0], 0) for x in coords]\n",
        "\n",
        "clustering = AgglomerativeClustering(n_clusters = None,\n",
        "                                     affinity = \"manhattan\",\n",
        "                                     linkage = \"complete\",\n",
        "                                     distance_threshold = 5)\n",
        "clustering.fit(x_coords)"
      ],
      "metadata": {
        "colab": {
          "base_uri": "https://localhost:8080/"
        },
        "id": "7rKtPAVIXRmv",
        "outputId": "0e227e34-4f98-484a-c749-494582ec938d"
      },
      "execution_count": 180,
      "outputs": [
        {
          "output_type": "execute_result",
          "data": {
            "text/plain": [
              "AgglomerativeClustering(affinity='manhattan', distance_threshold=5,\n",
              "                        linkage='complete', n_clusters=None)"
            ]
          },
          "metadata": {},
          "execution_count": 180
        }
      ]
    },
    {
      "cell_type": "code",
      "source": [
        "v_lines = []\n",
        "h_padding = 10\n",
        "\n",
        "for cluster in np.unique(clustering.labels_):\n",
        "  ids = np.where(clustering.labels_ == cluster)[0]\n",
        "  \n",
        "  if len(ids) > 5:\n",
        "    avg_x = np.average([coords[i][0] for i in ids])\n",
        "    v_lines.append(int(avg_x) - h_padding)\n",
        "\n",
        "v_lines.sort()\n",
        "n_columns = len(v_lines)\n",
        "v_lines"
      ],
      "metadata": {
        "colab": {
          "base_uri": "https://localhost:8080/"
        },
        "id": "2lsh1a_aXk9v",
        "outputId": "c1a4ff4a-a210-434a-e0e5-1432c45c3350"
      },
      "execution_count": 181,
      "outputs": [
        {
          "output_type": "execute_result",
          "data": {
            "text/plain": [
              "[42, 147, 529, 675, 810, 955]"
            ]
          },
          "metadata": {},
          "execution_count": 181
        }
      ]
    },
    {
      "cell_type": "code",
      "source": [
        "y_coords = [(0, y[1]) for y in coords]\n",
        "\n",
        "clustering = AgglomerativeClustering(n_clusters = None,\n",
        "                                     affinity = \"manhattan\",\n",
        "                                     linkage = \"complete\",\n",
        "                                     distance_threshold = 5)\n",
        "clustering.fit(y_coords)"
      ],
      "metadata": {
        "colab": {
          "base_uri": "https://localhost:8080/"
        },
        "id": "y8LFw8eubbSo",
        "outputId": "466089a4-ef60-47c4-e9c8-1e3d55c52f10"
      },
      "execution_count": 182,
      "outputs": [
        {
          "output_type": "execute_result",
          "data": {
            "text/plain": [
              "AgglomerativeClustering(affinity='manhattan', distance_threshold=5,\n",
              "                        linkage='complete', n_clusters=None)"
            ]
          },
          "metadata": {},
          "execution_count": 182
        }
      ]
    },
    {
      "cell_type": "code",
      "source": [
        "h_lines = []\n",
        "v_padding = 10\n",
        "\n",
        "for cluster in np.unique(clustering.labels_):\n",
        "  ids = np.where(clustering.labels_ == cluster)[0]\n",
        "  if len(ids) > (int(n_columns / 2) + 1):\n",
        "    avg_y = np.average([coords[i][1] for i in ids])\n",
        "    h_lines.append(int(avg_y) - v_padding)\n",
        "\n",
        "h_lines.sort()\n",
        "h_lines"
      ],
      "metadata": {
        "colab": {
          "base_uri": "https://localhost:8080/"
        },
        "id": "1oCZeQ2vbkZo",
        "outputId": "53a1a732-8059-44e2-b0f3-1a5c8b3743aa"
      },
      "execution_count": 183,
      "outputs": [
        {
          "output_type": "execute_result",
          "data": {
            "text/plain": [
              "[739,\n",
              " 791,\n",
              " 846,\n",
              " 902,\n",
              " 958,\n",
              " 1013,\n",
              " 1068,\n",
              " 1123,\n",
              " 1179,\n",
              " 1234,\n",
              " 1289,\n",
              " 1344,\n",
              " 1400,\n",
              " 1456,\n",
              " 1510,\n",
              " 1565,\n",
              " 1622,\n",
              " 1677,\n",
              " 1732,\n",
              " 1787,\n",
              " 1843,\n",
              " 1898,\n",
              " 1953,\n",
              " 2008,\n",
              " 2064,\n",
              " 2119]"
            ]
          },
          "metadata": {},
          "execution_count": 183
        }
      ]
    },
    {
      "cell_type": "code",
      "source": [
        "from statistics import median\n",
        "\n",
        "v_spacings = []\n",
        "for i, line in enumerate(h_lines):\n",
        "  try:\n",
        "    v_spacings.append(h_lines[i+1] - h_lines[i])\n",
        "  except:\n",
        "    pass\n",
        "\n",
        "v_spacing = int(median(v_spacings) - median([w[3] for w in coords]))\n",
        "v_spacing"
      ],
      "metadata": {
        "colab": {
          "base_uri": "https://localhost:8080/"
        },
        "id": "maifqfpheVDx",
        "outputId": "d01b9da8-6e64-4bd6-bff0-6269e5caa656"
      },
      "execution_count": 184,
      "outputs": [
        {
          "output_type": "execute_result",
          "data": {
            "text/plain": [
              "34"
            ]
          },
          "metadata": {},
          "execution_count": 184
        }
      ]
    },
    {
      "cell_type": "code",
      "source": [
        "# coords on last column\n",
        "last_column_widths = []\n",
        "for id in np.where([x[0] for x in coords] > np.max(v_lines))[0]:\n",
        "  last_column_widths.append(coords[id][2])\n",
        "\n",
        "last_column_width = max(last_column_widths) + 2*h_padding\n",
        "last_column_width"
      ],
      "metadata": {
        "colab": {
          "base_uri": "https://localhost:8080/"
        },
        "id": "3m0XlILni35o",
        "outputId": "957c57f1-2117-43e8-c09b-c49658485da0"
      },
      "execution_count": 185,
      "outputs": [
        {
          "output_type": "execute_result",
          "data": {
            "text/plain": [
              "68"
            ]
          },
          "metadata": {},
          "execution_count": 185
        }
      ]
    },
    {
      "cell_type": "code",
      "source": [
        "color_preprocessed = cv2.cvtColor(preprocessed, cv2.COLOR_GRAY2BGR)\n",
        "\n",
        "border_color = [153, 0, 0] # dark blue\n",
        "lines_color = [255, 128, 0] # mild blue\n",
        "\n",
        "# Table corners\n",
        "x_min = np.min(v_lines)\n",
        "y_min = np.min(h_lines)\n",
        "x_max = np.max(v_lines) + last_column_width\n",
        "y_max = np.max(h_lines) + v_spacing + v_padding\n",
        "\n",
        "# Drawing external borders\n",
        "cv2.rectangle(color_preprocessed,\n",
        "              (x_min, y_min),\n",
        "              (x_max, y_max),\n",
        "              color = border_color,\n",
        "              thickness = 3)\n",
        "\n",
        "for v_line in v_lines:\n",
        "  if v_line != x_min:\n",
        "    cv2.line(color_preprocessed,\n",
        "            (v_line, y_min),\n",
        "            (v_line, y_max),\n",
        "             color = lines_color,\n",
        "             thickness = 2)\n",
        "    \n",
        "for h_line in h_lines:\n",
        "  if h_line != y_min:\n",
        "    cv2.line(color_preprocessed,\n",
        "             (x_min, h_line),\n",
        "             (x_max, h_line),\n",
        "             color = lines_color,\n",
        "             thickness = 2)\n",
        "\n",
        "cv2_imshow(color_preprocessed)"
      ],
      "metadata": {
        "colab": {
          "base_uri": "https://localhost:8080/",
          "height": 1000
        },
        "id": "Aq2AlRCdeABI",
        "outputId": "059e97ae-8b32-4a09-cb2d-37ce7a756388"
      },
      "execution_count": 188,
      "outputs": [
        {
          "output_type": "display_data",
          "data": {
            "text/plain": [
              "<PIL.Image.Image image mode=RGB size=1100x2332>"
            ],
            "image/png": "[encoded data removed]"
          },
          "metadata": {}
        }
      ]
    },
    {
      "cell_type": "code",
      "source": [
        "def get_table(image,\n",
        "              new_line_thresh = 20,\n",
        "              conf_thresh = 0,\n",
        "              clust_dist_thresh = 25,\n",
        "              min_cluster_size = 5,\n",
        "              max_cluster_size = 50,\n",
        "              return_conf = False):\n",
        "  '''\n",
        "  Extract table content from input preprocessed image.\n",
        "  image: Preprocessed image to extract table content;\n",
        "  new_line_thresh: Threshold to define when to consider a new line input.\n",
        "    Defined as the minimum vertical distance between lines in pixels.\n",
        "    Default = 20;\n",
        "  conf_thresh: Threshold to erase low confidence OCR text. Integer between 0 and\n",
        "    100. Default = 0;\n",
        "  clust_dist_thresh: Agglomerative clustering distance thresold. Positive\n",
        "    integer. Default = 25;\n",
        "  min_cluster_size: Minimum Agglomerative cluster size. Positive integer.\n",
        "    Default = 5;\n",
        "  max_cluster_size: Maximum Agglomerative cluster size. Positive integer.\n",
        "    Default = 50;\n",
        "  return_conf: Whether to return confidence level with text content. Boolean.\n",
        "    Default = False;\n",
        "  Return df and colored image with bounding boxes.\n",
        "  '''\n",
        "  OCRdict = pytesseract.image_to_data(image,\n",
        "                                      lang = 'eng',\n",
        "                                      output_type = pytesseract.Output.DICT)\n",
        "\n",
        "  # Initialize OCR text content and coordinates lists\n",
        "  coords = []\n",
        "  OCRtext = []\n",
        "\n",
        "  # Initialize auxiliary lists and variables\n",
        "  merged_text = []\n",
        "  merged_width = 0\n",
        "  prov_x = 0\n",
        "  date = 'Date not found!'\n",
        "\n",
        "  # Flags to manage text content\n",
        "  within_table = 0\n",
        "  new_line = 0\n",
        "  is_city = 0\n",
        "  is_province = 0\n",
        "\n",
        "  # Iterate through OCR text from pytesseract output\n",
        "  for i in range(0, len(OCRdict[\"text\"])):\n",
        "    # Exrtract bounding box and coordinates of the text region from OCR result\n",
        "    x = OCRdict[\"left\"][i]\n",
        "    y = OCRdict[\"top\"][i]\n",
        "    # Storing previous text element \"top\" coordinate\n",
        "    try:\n",
        "      y_prev = OCRdict[\"top\"][i-1]\n",
        "    except:\n",
        "      pass\n",
        "    w = OCRdict[\"width\"][i]\n",
        "    h = OCRdict[\"height\"][i]\n",
        "\n",
        "    # Extract OCR text and confidence for thresholding\n",
        "    text = OCRdict[\"text\"][i]\n",
        "    try:\n",
        "      next_text = OCRdict[\"text\"][i+1]\n",
        "    except:\n",
        "      pass\n",
        "    conf = int(float(OCRdict[\"conf\"][i]))\n",
        "\n",
        "    # Initializing table on header first column 'rank'\n",
        "    if \"RANK\" in text:\n",
        "      within_table = 1\n",
        "\n",
        "    # Extract month and year\n",
        "    if not within_table:\n",
        "      if (not re.match(\"[A-Z][a-z]*.\", text) == None) and (not re.match(\"[0-9][0-9][0-9][0-9]\", next_text) == None):\n",
        "        date = f\"{text} {next_text}\"\n",
        "\n",
        "    # Checking whether current text started a new line\n",
        "    if (y - y_prev) > new_line_thresh:\n",
        "      if within_table:\n",
        "        new_line = 1\n",
        "\n",
        "    # Checking whether current text is a city name and closing new line flag\n",
        "    if new_line or is_city:\n",
        "      if not re.match(\"[A-Z][a-z]*.\", text) == None:\n",
        "        is_city = 1\n",
        "        # Storing provisory x coordinate for first city name component in line\n",
        "        if new_line:\n",
        "          prov_x += x\n",
        "        new_line = 0\n",
        "        # Merging current width\n",
        "        merged_width += w\n",
        "    \n",
        "    # Checking whether current text is a province and closing new line flag\n",
        "    if is_city:\n",
        "      if len(text) == 2:\n",
        "        is_province = 1\n",
        "        is_city = 0\n",
        "        new_line = 0\n",
        "        # Resetting x coordinate to the first city name component found in line\n",
        "        x = prov_x\n",
        "        prov_x = 0\n",
        "        merged_width += w\n",
        "\n",
        "    if is_city:\n",
        "      merged_text.append(text)\n",
        "    \n",
        "    # Overwitting current text with merged_text list to concatenate province and\n",
        "    # complete city name\n",
        "    if is_province:\n",
        "      merged_text.append(text)\n",
        "      text = ' '.join(merged_text)\n",
        "      w = merged_width\n",
        "      merged_width = 0\n",
        "      merged_text = []\n",
        "      is_province = 0\n",
        "\n",
        "    # Ending table on 'grand total'\n",
        "    if (\"grand\" in text.lower()) and (\"total\" in next_text.lower()):\n",
        "      within_table = 0\n",
        "\n",
        "    # Ending table on 'average'\n",
        "    if \"average\" in text.lower():\n",
        "      within_table = 0\n",
        "\n",
        "    if conf < conf_thresh:\n",
        "      text = '-'\n",
        "\n",
        "    if within_table:\n",
        "      if not is_city:\n",
        "        coords.append((x, y, w, h))\n",
        "        if return_conf:\n",
        "          OCRtext.append(text + f\" conf: {conf}\")\n",
        "        else:\n",
        "          OCRtext.append(text)\n",
        "    \n",
        "  # Clustering on x coordinates to find columns\n",
        "  # Instancing x coordinates with y = 0 to cluster\n",
        "  xCoords = [(c[0], 0) for c in coords]\n",
        "\n",
        "  # Hierarchical agglomerative clustering to the coordinates\n",
        "  clustering = AgglomerativeClustering(n_clusters = None,\n",
        "                                    affinity = \"manhattan\",\n",
        "                                    linkage = \"complete\",\n",
        "                                    distance_threshold = clust_dist_thresh)\n",
        "  \n",
        "  # Fitting AgglomerativeClustering to extracted x coordinates\n",
        "  clustering.fit(xCoords)\n",
        "\n",
        "  # Sorting clusters\n",
        "  sortedClusters = []\n",
        "\n",
        "  for label in np.unique(clustering.labels_):\n",
        "    # Extract indices for the coordinates of current cluster\n",
        "    idxs = np.where(clustering.labels_ == label)[0]\n",
        "\n",
        "    # Condition acceptable cluster on mininmum size\n",
        "    if (len(idxs) >= min_cluster_size) and (len(idxs) <= max_cluster_size):\n",
        "      avg = np.average([coords[i][0] for i in idxs])\n",
        "      sortedClusters.append((label, avg))\n",
        "\n",
        "  # Sorting clusters by their average x-coordinate\n",
        "  sortedClusters.sort(key = lambda x: x[1])\n",
        "  df = pd.DataFrame()\n",
        "\n",
        "  # Redefining test image as a colored OpenCV image\n",
        "  color_img = cv2.cvtColor(image, cv2.COLOR_GRAY2BGR)\n",
        "\n",
        "  for (label, _) in sortedClusters:\n",
        "    # Extract indices for the coordinates of current cluster\n",
        "    idxs = np.where(clustering.labels_ == label)[0]\n",
        "\n",
        "    # Y coordinates from the elements in the current cluster\n",
        "    # Sort them top-to-bottom\n",
        "    yCoords = [coords[i][1] for i in idxs]\n",
        "    sortedIdxs = idxs[np.argsort(yCoords)]\n",
        "\n",
        "    # Generate a random color for the cluster\n",
        "    color = np.random.randint(0, 255, size = (3,), dtype = \"int\")\n",
        "    color = [int(c) for c in color]\n",
        "\n",
        "    # Loop over the sorted indices\n",
        "    for i in sortedIdxs:\n",
        "      # Extract bounding box coordinates and draw bounding box for current element\n",
        "      (x, y, w, h) = coords[i]\n",
        "      cv2.rectangle(color_img, (x, y), (x + w, y + h), color, 2)\n",
        "    \n",
        "    # Extract OCR text for the current column, then populate dataframe\n",
        "    cols = [OCRtext[i].strip() for i in sortedIdxs]\n",
        "    currentDF = pd.DataFrame({cols[0]: cols[1:]})\n",
        "\n",
        "    # Concatenate initialized dataframe with currentDF\n",
        "    df = pd.concat([df, currentDF], axis = 1)\n",
        "\n",
        "  return date, df, color_img"
      ],
      "metadata": {
        "id": "9MrC7Uhco7_a"
      },
      "execution_count": null,
      "outputs": []
    },
    {
      "cell_type": "code",
      "source": [
        "images[0]"
      ],
      "metadata": {
        "colab": {
          "base_uri": "https://localhost:8080/",
          "height": 36
        },
        "id": "Wa6_6UbEntDC",
        "outputId": "431537e5-388f-4f97-d715-428d5f8cd0a4"
      },
      "execution_count": null,
      "outputs": [
        {
          "output_type": "execute_result",
          "data": {
            "text/plain": [
              "'data/Rent_Report_Graphic__-_August_2022_2.width-720.png'"
            ],
            "application/vnd.google.colaboratory.intrinsic+json": {
              "type": "string"
            }
          },
          "metadata": {},
          "execution_count": 56
        }
      ]
    },
    {
      "cell_type": "code",
      "source": [
        "preprocessed = preprocess(images[-1],\n",
        "                          resize = preprocess_args['resize'],\n",
        "                          grayscale = preprocess_args['grayscale'],\n",
        "                          thresholding = preprocess_args['thresholding'],\n",
        "                          thresh_value = preprocess_args['thresh_value'])\n",
        "\n",
        "date, df, color_img = get_table(preprocessed)\n",
        "df.fillna(\"\", inplace=True)\n",
        "print(date)\n",
        "print(tabulate(df, headers=\"keys\", tablefmt=\"psql\"))\n",
        "cv2_imshow(color_img)"
      ],
      "metadata": {
        "colab": {
          "base_uri": "https://localhost:8080/",
          "height": 1000
        },
        "id": "zhF1TFdaicFL",
        "outputId": "f9051aa3-3a82-4618-c491-a6522fd53430"
      },
      "execution_count": null,
      "outputs": [
        {
          "output_type": "stream",
          "name": "stdout",
          "text": [
            "Processing input file: data/Rentals.ca_-_Rent_Report_-_January_2019.width-720-483x1024.png...\n",
            "Image input dimensions: (483, 1024)\n",
            "Image output dimensions: (1100, 2332)\n",
            "\n",
            "January 2019\n",
            "+----+-------------------+------------+------+------------+------+\n",
            "|    | ar                | {BEDROOM   | MM   | 2BEDROOM   | MM   |\n",
            "|----+-------------------+------------+------+------------+------|\n",
            "|  0 | Toronto, ON       | $2135      | -    | $2.577     | -3%  |\n",
            "|  1 | Missiesauga, ON   | $1,825     | -2%  | $2,2n      | 1%   |\n",
            "|  2 | Vancouver, BC     | $1768      | -8%  | $2,541     | -3%  |\n",
            "|  3 | Ottawa, ON        | $1,608     | +5%  | $1,959     | -3%  |\n",
            "|  4 | York, ON          | $1,570     | +1%  | $2,214     | -2%  |\n",
            "|  5 | Brampton, ON      | $1514      | -3%  | $1,681     | -5%  |\n",
            "|  6 | Oshawe, ON        | $1,397     | :    | $1,464     | +2%  |\n",
            "|  7 | Scarborough, ON   | $1,313     | 2%   | $1727      | 2%   |\n",
            "|  8 | Calgary, AB       | $1,270     | +4%  | $1,448     | 5%   |\n",
            "|  9 | Fort McMurrey, AB | $1,236     | -2%  | $1,345     | 41%  |\n",
            "| 10 | Hamilton, ON      | $1163      | 1%   | $1329      | 4%   |\n",
            "| 11 | Kitchener, ON     | $1128      | :    | $1,313     | +2%  |\n",
            "| 12 | Halifax, NS       | $1,090     | 41%  | $1,363     | 43%  |\n",
            "| 13 | Edmonton, AB      | $1,081     | +1%  | $1,300     | -10% |\n",
            "| 14 | Montréal, QC      | $1.067     | “16% | $1,651     | +1%  |\n",
            "| 15 | Regina, SK        | $1.047     | +1%  | $1176      | 1%   |\n",
            "| 16 | Verdun, QC        | $1,007     | 1%   | $1.432     | +2%  |\n",
            "| 17 | Winnipeg, MB      | $998       | +    | $1,254     | +2%  |\n",
            "| 18 | Grand Prairie, AB | $990       | +3%  | $1,183     | +2%  |\n",
            "| 19 | Red Deer, AB      | $976       | -t%  | $1120      | -3%  |\n",
            "| 20 | Saskatoon, SK     | $935       | -1%  | $1.16      | +3%  |\n",
            "| 21 | London, ON        | $921       | 1%   | $1.054     |      |\n",
            "| 22 | Lethbridge, AB    | $870       | -    | $1,027     |      |\n",
            "| 23 | Québec City, @C   | $317       | :    | $955       |      |\n",
            "| 24 | Fort St. John, BC | $7”        | -    | $1100      |      |\n",
            "| 25 | -                 |            |      |            |      |\n",
            "| 26 | -                 |            |      |            |      |\n",
            "+----+-------------------+------------+------+------------+------+\n"
          ]
        },
        {
          "output_type": "display_data",
          "data": {
            "text/plain": [
              "<PIL.Image.Image image mode=RGB size=1100x2332>"
            ],
            "image/png": "[encoded data removed]"
          },
          "metadata": {}
        }
      ]
    }
  ]
}